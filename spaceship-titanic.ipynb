{
 "cells": [
  {
   "cell_type": "markdown",
   "id": "48c46467",
   "metadata": {
    "papermill": {
     "duration": 0.0251,
     "end_time": "2022-03-22T08:32:39.264481",
     "exception": false,
     "start_time": "2022-03-22T08:32:39.239381",
     "status": "completed"
    },
    "tags": []
   },
   "source": [
    "## Import libraries"
   ]
  },
  {
   "cell_type": "code",
   "execution_count": 1,
   "id": "c6e4a0fd",
   "metadata": {
    "_cell_guid": "b1076dfc-b9ad-4769-8c92-a6c4dae69d19",
    "_uuid": "8f2839f25d086af736a60e9eeb907d3b93b6e0e5",
    "execution": {
     "iopub.execute_input": "2022-03-22T08:32:39.323246Z",
     "iopub.status.busy": "2022-03-22T08:32:39.322667Z",
     "iopub.status.idle": "2022-03-22T08:32:41.871792Z",
     "shell.execute_reply": "2022-03-22T08:32:41.871076Z",
     "shell.execute_reply.started": "2022-03-22T08:17:36.280793Z"
    },
    "papermill": {
     "duration": 2.581809,
     "end_time": "2022-03-22T08:32:41.871974",
     "exception": false,
     "start_time": "2022-03-22T08:32:39.290165",
     "status": "completed"
    },
    "tags": []
   },
   "outputs": [],
   "source": [
    "# data analysis and wrangling\n",
    "\n",
    "import pandas as pd\n",
    "import numpy as np\n",
    "import random as rnd\n",
    "import re\n",
    "\n",
    "# visualization\n",
    "\n",
    "import seaborn as sns\n",
    "import matplotlib.pyplot as plt\n",
    "import plotly.express as px\n",
    "from plotly.subplots import make_subplots\n",
    "import plotly.graph_objects as go\n",
    "%matplotlib inline\n",
    "\n",
    "# machine learning\n",
    "\n",
    "from sklearn.model_selection import GridSearchCV\n",
    "from sklearn.ensemble import RandomForestClassifier\n",
    "from xgboost import XGBClassifier"
   ]
  },
  {
   "cell_type": "markdown",
   "id": "a014c6bd",
   "metadata": {
    "papermill": {
     "duration": 0.022089,
     "end_time": "2022-03-22T08:32:41.916695",
     "exception": false,
     "start_time": "2022-03-22T08:32:41.894606",
     "status": "completed"
    },
    "tags": []
   },
   "source": [
    "## Load the Data"
   ]
  },
  {
   "cell_type": "code",
   "execution_count": 2,
   "id": "d8da2442",
   "metadata": {
    "execution": {
     "iopub.execute_input": "2022-03-22T08:32:41.967014Z",
     "iopub.status.busy": "2022-03-22T08:32:41.966408Z",
     "iopub.status.idle": "2022-03-22T08:32:42.056211Z",
     "shell.execute_reply": "2022-03-22T08:32:42.056696Z",
     "shell.execute_reply.started": "2022-03-22T08:17:39.395433Z"
    },
    "papermill": {
     "duration": 0.117795,
     "end_time": "2022-03-22T08:32:42.056863",
     "exception": false,
     "start_time": "2022-03-22T08:32:41.939068",
     "status": "completed"
    },
    "tags": []
   },
   "outputs": [
    {
     "data": {
      "text/html": [
       "<div>\n",
       "<style scoped>\n",
       "    .dataframe tbody tr th:only-of-type {\n",
       "        vertical-align: middle;\n",
       "    }\n",
       "\n",
       "    .dataframe tbody tr th {\n",
       "        vertical-align: top;\n",
       "    }\n",
       "\n",
       "    .dataframe thead th {\n",
       "        text-align: right;\n",
       "    }\n",
       "</style>\n",
       "<table border=\"1\" class=\"dataframe\">\n",
       "  <thead>\n",
       "    <tr style=\"text-align: right;\">\n",
       "      <th></th>\n",
       "      <th>PassengerId</th>\n",
       "      <th>HomePlanet</th>\n",
       "      <th>CryoSleep</th>\n",
       "      <th>Cabin</th>\n",
       "      <th>Destination</th>\n",
       "      <th>Age</th>\n",
       "      <th>VIP</th>\n",
       "      <th>RoomService</th>\n",
       "      <th>FoodCourt</th>\n",
       "      <th>ShoppingMall</th>\n",
       "      <th>Spa</th>\n",
       "      <th>VRDeck</th>\n",
       "      <th>Name</th>\n",
       "      <th>Transported</th>\n",
       "    </tr>\n",
       "  </thead>\n",
       "  <tbody>\n",
       "    <tr>\n",
       "      <th>0</th>\n",
       "      <td>0001_01</td>\n",
       "      <td>Europa</td>\n",
       "      <td>False</td>\n",
       "      <td>B/0/P</td>\n",
       "      <td>TRAPPIST-1e</td>\n",
       "      <td>39.0</td>\n",
       "      <td>False</td>\n",
       "      <td>0.0</td>\n",
       "      <td>0.0</td>\n",
       "      <td>0.0</td>\n",
       "      <td>0.0</td>\n",
       "      <td>0.0</td>\n",
       "      <td>Maham Ofracculy</td>\n",
       "      <td>False</td>\n",
       "    </tr>\n",
       "    <tr>\n",
       "      <th>1</th>\n",
       "      <td>0002_01</td>\n",
       "      <td>Earth</td>\n",
       "      <td>False</td>\n",
       "      <td>F/0/S</td>\n",
       "      <td>TRAPPIST-1e</td>\n",
       "      <td>24.0</td>\n",
       "      <td>False</td>\n",
       "      <td>109.0</td>\n",
       "      <td>9.0</td>\n",
       "      <td>25.0</td>\n",
       "      <td>549.0</td>\n",
       "      <td>44.0</td>\n",
       "      <td>Juanna Vines</td>\n",
       "      <td>True</td>\n",
       "    </tr>\n",
       "    <tr>\n",
       "      <th>2</th>\n",
       "      <td>0003_01</td>\n",
       "      <td>Europa</td>\n",
       "      <td>False</td>\n",
       "      <td>A/0/S</td>\n",
       "      <td>TRAPPIST-1e</td>\n",
       "      <td>58.0</td>\n",
       "      <td>True</td>\n",
       "      <td>43.0</td>\n",
       "      <td>3576.0</td>\n",
       "      <td>0.0</td>\n",
       "      <td>6715.0</td>\n",
       "      <td>49.0</td>\n",
       "      <td>Altark Susent</td>\n",
       "      <td>False</td>\n",
       "    </tr>\n",
       "    <tr>\n",
       "      <th>3</th>\n",
       "      <td>0003_02</td>\n",
       "      <td>Europa</td>\n",
       "      <td>False</td>\n",
       "      <td>A/0/S</td>\n",
       "      <td>TRAPPIST-1e</td>\n",
       "      <td>33.0</td>\n",
       "      <td>False</td>\n",
       "      <td>0.0</td>\n",
       "      <td>1283.0</td>\n",
       "      <td>371.0</td>\n",
       "      <td>3329.0</td>\n",
       "      <td>193.0</td>\n",
       "      <td>Solam Susent</td>\n",
       "      <td>False</td>\n",
       "    </tr>\n",
       "    <tr>\n",
       "      <th>4</th>\n",
       "      <td>0004_01</td>\n",
       "      <td>Earth</td>\n",
       "      <td>False</td>\n",
       "      <td>F/1/S</td>\n",
       "      <td>TRAPPIST-1e</td>\n",
       "      <td>16.0</td>\n",
       "      <td>False</td>\n",
       "      <td>303.0</td>\n",
       "      <td>70.0</td>\n",
       "      <td>151.0</td>\n",
       "      <td>565.0</td>\n",
       "      <td>2.0</td>\n",
       "      <td>Willy Santantines</td>\n",
       "      <td>True</td>\n",
       "    </tr>\n",
       "  </tbody>\n",
       "</table>\n",
       "</div>"
      ],
      "text/plain": [
       "  PassengerId HomePlanet CryoSleep  Cabin  Destination   Age    VIP  \\\n",
       "0     0001_01     Europa     False  B/0/P  TRAPPIST-1e  39.0  False   \n",
       "1     0002_01      Earth     False  F/0/S  TRAPPIST-1e  24.0  False   \n",
       "2     0003_01     Europa     False  A/0/S  TRAPPIST-1e  58.0   True   \n",
       "3     0003_02     Europa     False  A/0/S  TRAPPIST-1e  33.0  False   \n",
       "4     0004_01      Earth     False  F/1/S  TRAPPIST-1e  16.0  False   \n",
       "\n",
       "   RoomService  FoodCourt  ShoppingMall     Spa  VRDeck               Name  \\\n",
       "0          0.0        0.0           0.0     0.0     0.0    Maham Ofracculy   \n",
       "1        109.0        9.0          25.0   549.0    44.0       Juanna Vines   \n",
       "2         43.0     3576.0           0.0  6715.0    49.0      Altark Susent   \n",
       "3          0.0     1283.0         371.0  3329.0   193.0       Solam Susent   \n",
       "4        303.0       70.0         151.0   565.0     2.0  Willy Santantines   \n",
       "\n",
       "   Transported  \n",
       "0        False  \n",
       "1         True  \n",
       "2        False  \n",
       "3        False  \n",
       "4         True  "
      ]
     },
     "execution_count": 2,
     "metadata": {},
     "output_type": "execute_result"
    }
   ],
   "source": [
    "train = pd.read_csv('../input/spaceship-titanic/train.csv')\n",
    "test = pd.read_csv('../input/spaceship-titanic/test.csv')\n",
    "\n",
    "train.head()"
   ]
  },
  {
   "cell_type": "code",
   "execution_count": 3,
   "id": "2e502452",
   "metadata": {
    "execution": {
     "iopub.execute_input": "2022-03-22T08:32:42.109033Z",
     "iopub.status.busy": "2022-03-22T08:32:42.108410Z",
     "iopub.status.idle": "2022-03-22T08:32:42.145912Z",
     "shell.execute_reply": "2022-03-22T08:32:42.146329Z",
     "shell.execute_reply.started": "2022-03-22T08:17:39.518311Z"
    },
    "papermill": {
     "duration": 0.066318,
     "end_time": "2022-03-22T08:32:42.146508",
     "exception": false,
     "start_time": "2022-03-22T08:32:42.080190",
     "status": "completed"
    },
    "tags": []
   },
   "outputs": [
    {
     "data": {
      "text/html": [
       "<div>\n",
       "<style scoped>\n",
       "    .dataframe tbody tr th:only-of-type {\n",
       "        vertical-align: middle;\n",
       "    }\n",
       "\n",
       "    .dataframe tbody tr th {\n",
       "        vertical-align: top;\n",
       "    }\n",
       "\n",
       "    .dataframe thead th {\n",
       "        text-align: right;\n",
       "    }\n",
       "</style>\n",
       "<table border=\"1\" class=\"dataframe\">\n",
       "  <thead>\n",
       "    <tr style=\"text-align: right;\">\n",
       "      <th></th>\n",
       "      <th>Age</th>\n",
       "      <th>RoomService</th>\n",
       "      <th>FoodCourt</th>\n",
       "      <th>ShoppingMall</th>\n",
       "      <th>Spa</th>\n",
       "      <th>VRDeck</th>\n",
       "    </tr>\n",
       "  </thead>\n",
       "  <tbody>\n",
       "    <tr>\n",
       "      <th>count</th>\n",
       "      <td>8514.000000</td>\n",
       "      <td>8512.000000</td>\n",
       "      <td>8510.000000</td>\n",
       "      <td>8485.000000</td>\n",
       "      <td>8510.000000</td>\n",
       "      <td>8505.000000</td>\n",
       "    </tr>\n",
       "    <tr>\n",
       "      <th>mean</th>\n",
       "      <td>28.827930</td>\n",
       "      <td>224.687617</td>\n",
       "      <td>458.077203</td>\n",
       "      <td>173.729169</td>\n",
       "      <td>311.138778</td>\n",
       "      <td>304.854791</td>\n",
       "    </tr>\n",
       "    <tr>\n",
       "      <th>std</th>\n",
       "      <td>14.489021</td>\n",
       "      <td>666.717663</td>\n",
       "      <td>1611.489240</td>\n",
       "      <td>604.696458</td>\n",
       "      <td>1136.705535</td>\n",
       "      <td>1145.717189</td>\n",
       "    </tr>\n",
       "    <tr>\n",
       "      <th>min</th>\n",
       "      <td>0.000000</td>\n",
       "      <td>0.000000</td>\n",
       "      <td>0.000000</td>\n",
       "      <td>0.000000</td>\n",
       "      <td>0.000000</td>\n",
       "      <td>0.000000</td>\n",
       "    </tr>\n",
       "    <tr>\n",
       "      <th>25%</th>\n",
       "      <td>19.000000</td>\n",
       "      <td>0.000000</td>\n",
       "      <td>0.000000</td>\n",
       "      <td>0.000000</td>\n",
       "      <td>0.000000</td>\n",
       "      <td>0.000000</td>\n",
       "    </tr>\n",
       "    <tr>\n",
       "      <th>50%</th>\n",
       "      <td>27.000000</td>\n",
       "      <td>0.000000</td>\n",
       "      <td>0.000000</td>\n",
       "      <td>0.000000</td>\n",
       "      <td>0.000000</td>\n",
       "      <td>0.000000</td>\n",
       "    </tr>\n",
       "    <tr>\n",
       "      <th>75%</th>\n",
       "      <td>38.000000</td>\n",
       "      <td>47.000000</td>\n",
       "      <td>76.000000</td>\n",
       "      <td>27.000000</td>\n",
       "      <td>59.000000</td>\n",
       "      <td>46.000000</td>\n",
       "    </tr>\n",
       "    <tr>\n",
       "      <th>max</th>\n",
       "      <td>79.000000</td>\n",
       "      <td>14327.000000</td>\n",
       "      <td>29813.000000</td>\n",
       "      <td>23492.000000</td>\n",
       "      <td>22408.000000</td>\n",
       "      <td>24133.000000</td>\n",
       "    </tr>\n",
       "  </tbody>\n",
       "</table>\n",
       "</div>"
      ],
      "text/plain": [
       "               Age   RoomService     FoodCourt  ShoppingMall           Spa  \\\n",
       "count  8514.000000   8512.000000   8510.000000   8485.000000   8510.000000   \n",
       "mean     28.827930    224.687617    458.077203    173.729169    311.138778   \n",
       "std      14.489021    666.717663   1611.489240    604.696458   1136.705535   \n",
       "min       0.000000      0.000000      0.000000      0.000000      0.000000   \n",
       "25%      19.000000      0.000000      0.000000      0.000000      0.000000   \n",
       "50%      27.000000      0.000000      0.000000      0.000000      0.000000   \n",
       "75%      38.000000     47.000000     76.000000     27.000000     59.000000   \n",
       "max      79.000000  14327.000000  29813.000000  23492.000000  22408.000000   \n",
       "\n",
       "             VRDeck  \n",
       "count   8505.000000  \n",
       "mean     304.854791  \n",
       "std     1145.717189  \n",
       "min        0.000000  \n",
       "25%        0.000000  \n",
       "50%        0.000000  \n",
       "75%       46.000000  \n",
       "max    24133.000000  "
      ]
     },
     "execution_count": 3,
     "metadata": {},
     "output_type": "execute_result"
    }
   ],
   "source": [
    "train.describe()"
   ]
  },
  {
   "cell_type": "code",
   "execution_count": 4,
   "id": "cf0a85aa",
   "metadata": {
    "execution": {
     "iopub.execute_input": "2022-03-22T08:32:42.199377Z",
     "iopub.status.busy": "2022-03-22T08:32:42.198478Z",
     "iopub.status.idle": "2022-03-22T08:32:42.224187Z",
     "shell.execute_reply": "2022-03-22T08:32:42.224976Z",
     "shell.execute_reply.started": "2022-03-22T08:17:39.567022Z"
    },
    "papermill": {
     "duration": 0.052833,
     "end_time": "2022-03-22T08:32:42.225215",
     "exception": false,
     "start_time": "2022-03-22T08:32:42.172382",
     "status": "completed"
    },
    "tags": []
   },
   "outputs": [
    {
     "name": "stdout",
     "output_type": "stream",
     "text": [
      "<class 'pandas.core.frame.DataFrame'>\n",
      "RangeIndex: 8693 entries, 0 to 8692\n",
      "Data columns (total 14 columns):\n",
      " #   Column        Non-Null Count  Dtype  \n",
      "---  ------        --------------  -----  \n",
      " 0   PassengerId   8693 non-null   object \n",
      " 1   HomePlanet    8492 non-null   object \n",
      " 2   CryoSleep     8476 non-null   object \n",
      " 3   Cabin         8494 non-null   object \n",
      " 4   Destination   8511 non-null   object \n",
      " 5   Age           8514 non-null   float64\n",
      " 6   VIP           8490 non-null   object \n",
      " 7   RoomService   8512 non-null   float64\n",
      " 8   FoodCourt     8510 non-null   float64\n",
      " 9   ShoppingMall  8485 non-null   float64\n",
      " 10  Spa           8510 non-null   float64\n",
      " 11  VRDeck        8505 non-null   float64\n",
      " 12  Name          8493 non-null   object \n",
      " 13  Transported   8693 non-null   bool   \n",
      "dtypes: bool(1), float64(6), object(7)\n",
      "memory usage: 891.5+ KB\n",
      "\n",
      "------------------------------------------------------------\n",
      "<class 'pandas.core.frame.DataFrame'>\n",
      "RangeIndex: 4277 entries, 0 to 4276\n",
      "Data columns (total 13 columns):\n",
      " #   Column        Non-Null Count  Dtype  \n",
      "---  ------        --------------  -----  \n",
      " 0   PassengerId   4277 non-null   object \n",
      " 1   HomePlanet    4190 non-null   object \n",
      " 2   CryoSleep     4184 non-null   object \n",
      " 3   Cabin         4177 non-null   object \n",
      " 4   Destination   4185 non-null   object \n",
      " 5   Age           4186 non-null   float64\n",
      " 6   VIP           4184 non-null   object \n",
      " 7   RoomService   4195 non-null   float64\n",
      " 8   FoodCourt     4171 non-null   float64\n",
      " 9   ShoppingMall  4179 non-null   float64\n",
      " 10  Spa           4176 non-null   float64\n",
      " 11  VRDeck        4197 non-null   float64\n",
      " 12  Name          4183 non-null   object \n",
      "dtypes: float64(6), object(7)\n",
      "memory usage: 434.5+ KB\n"
     ]
    }
   ],
   "source": [
    "train.info()\n",
    "print()\n",
    "print('----------'*6)\n",
    "test.info()"
   ]
  },
  {
   "cell_type": "markdown",
   "id": "de0c2306",
   "metadata": {
    "papermill": {
     "duration": 0.023693,
     "end_time": "2022-03-22T08:32:42.273833",
     "exception": false,
     "start_time": "2022-03-22T08:32:42.250140",
     "status": "completed"
    },
    "tags": []
   },
   "source": [
    "we can see there are lot of missing values, so it is important to handle them well."
   ]
  },
  {
   "cell_type": "code",
   "execution_count": 5,
   "id": "8d5748c6",
   "metadata": {
    "execution": {
     "iopub.execute_input": "2022-03-22T08:32:42.327967Z",
     "iopub.status.busy": "2022-03-22T08:32:42.327337Z",
     "iopub.status.idle": "2022-03-22T08:32:42.348684Z",
     "shell.execute_reply": "2022-03-22T08:32:42.347987Z",
     "shell.execute_reply.started": "2022-03-22T08:17:39.609514Z"
    },
    "papermill": {
     "duration": 0.051292,
     "end_time": "2022-03-22T08:32:42.348829",
     "exception": false,
     "start_time": "2022-03-22T08:32:42.297537",
     "status": "completed"
    },
    "tags": []
   },
   "outputs": [
    {
     "name": "stdout",
     "output_type": "stream",
     "text": [
      "['PassengerId' 'HomePlanet' 'CryoSleep' 'Cabin' 'Destination' 'Age' 'VIP'\n",
      " 'RoomService' 'FoodCourt' 'ShoppingMall' 'Spa' 'VRDeck' 'Name'\n",
      " 'Transported']\n",
      "-------------------------\n",
      "Earth     4602\n",
      "Europa    2131\n",
      "Mars      1759\n",
      "Name: HomePlanet, dtype: int64\n",
      "-------------------------\n",
      "TRAPPIST-1e      5915\n",
      "55 Cancri e      1800\n",
      "PSO J318.5-22     796\n",
      "Name: Destination, dtype: int64\n",
      "-------------------------\n",
      "False    8291\n",
      "True      199\n",
      "Name: VIP, dtype: int64\n",
      "-------------------------\n",
      "True     4378\n",
      "False    4315\n",
      "Name: Transported, dtype: int64\n",
      "-------------------------\n",
      "G/734/S     8\n",
      "G/109/P     7\n",
      "B/201/P     7\n",
      "G/1368/P    7\n",
      "G/981/S     7\n",
      "           ..\n",
      "G/556/P     1\n",
      "E/231/S     1\n",
      "G/545/S     1\n",
      "G/543/S     1\n",
      "F/947/P     1\n",
      "Name: Cabin, Length: 6560, dtype: int64\n",
      "-------------------------\n",
      "False    5439\n",
      "True     3037\n",
      "Name: CryoSleep, dtype: int64\n",
      "-------------------------\n",
      "24.0    324\n",
      "18.0    320\n",
      "21.0    311\n",
      "19.0    293\n",
      "23.0    292\n",
      "       ... \n",
      "72.0      4\n",
      "78.0      3\n",
      "79.0      3\n",
      "76.0      2\n",
      "77.0      2\n",
      "Name: Age, Length: 80, dtype: int64\n",
      "-------------------------\n"
     ]
    }
   ],
   "source": [
    "print(train.columns.values)\n",
    "print('-----'*5)\n",
    "print(train['HomePlanet'].value_counts())\n",
    "print('-----'*5)\n",
    "print(train['Destination'].value_counts())\n",
    "print('-----'*5)\n",
    "print(train['VIP'].value_counts())\n",
    "print('-----'*5)\n",
    "print(train['Transported'].value_counts())\n",
    "print('-----'*5)\n",
    "print(train['Cabin'].value_counts())\n",
    "print('-----'*5)\n",
    "print(train['CryoSleep'].value_counts())\n",
    "print('-----'*5)\n",
    "print(train['Age'].value_counts())\n",
    "print('-----'*5)"
   ]
  },
  {
   "cell_type": "markdown",
   "id": "83d1e4d5",
   "metadata": {
    "papermill": {
     "duration": 0.023802,
     "end_time": "2022-03-22T08:32:42.397427",
     "exception": false,
     "start_time": "2022-03-22T08:32:42.373625",
     "status": "completed"
    },
    "tags": []
   },
   "source": [
    "### Plan for replacing missing values\n",
    "\n",
    "* HomePlanet: Since most of the data is Earth, we will replace missing values with Earth.\n",
    "* Destination: Since most of the data is Earth, we will replace the missing values with TRAPPIST-1e\n",
    "* VIP: Most of them are False so we will replace the missing values with False.\n",
    "* Cabin: Cabin consists of Deck, Num, Side. It can be divided and analyzed\n",
    "* CryoSleep: Missing values will be replaced as False."
   ]
  },
  {
   "cell_type": "markdown",
   "id": "f842440c",
   "metadata": {
    "papermill": {
     "duration": 0.024095,
     "end_time": "2022-03-22T08:32:42.445996",
     "exception": false,
     "start_time": "2022-03-22T08:32:42.421901",
     "status": "completed"
    },
    "tags": []
   },
   "source": [
    "## Handling Missing Values"
   ]
  },
  {
   "cell_type": "code",
   "execution_count": 6,
   "id": "7665ccca",
   "metadata": {
    "execution": {
     "iopub.execute_input": "2022-03-22T08:32:42.498789Z",
     "iopub.status.busy": "2022-03-22T08:32:42.498136Z",
     "iopub.status.idle": "2022-03-22T08:32:42.525756Z",
     "shell.execute_reply": "2022-03-22T08:32:42.525085Z",
     "shell.execute_reply.started": "2022-03-22T08:17:39.647522Z"
    },
    "papermill": {
     "duration": 0.054884,
     "end_time": "2022-03-22T08:32:42.525896",
     "exception": false,
     "start_time": "2022-03-22T08:32:42.471012",
     "status": "completed"
    },
    "tags": []
   },
   "outputs": [],
   "source": [
    "Missing_features = ['FoodCourt', 'Spa', 'ShoppingMall', 'RoomService', 'VRDeck', 'Cabin', 'CryoSleep', 'VIP', 'HomePlanet', 'Destination', 'Age']\n",
    "for feature in Missing_features:\n",
    "    if feature == 'Age':\n",
    "        fill = train[feature].mean()\n",
    "    else:\n",
    "        fill = train[feature].value_counts().index[0]\n",
    "    train[feature] = train[feature].fillna(fill)\n",
    "    test[feature] = test[feature].fillna(fill)"
   ]
  },
  {
   "cell_type": "markdown",
   "id": "10cba571",
   "metadata": {
    "papermill": {
     "duration": 0.024267,
     "end_time": "2022-03-22T08:32:42.575250",
     "exception": false,
     "start_time": "2022-03-22T08:32:42.550983",
     "status": "completed"
    },
    "tags": []
   },
   "source": [
    "## Divide and Analyze Cabins"
   ]
  },
  {
   "cell_type": "code",
   "execution_count": 7,
   "id": "057c5293",
   "metadata": {
    "execution": {
     "iopub.execute_input": "2022-03-22T08:32:42.642753Z",
     "iopub.status.busy": "2022-03-22T08:32:42.642110Z",
     "iopub.status.idle": "2022-03-22T08:32:42.649969Z",
     "shell.execute_reply": "2022-03-22T08:32:42.650414Z",
     "shell.execute_reply.started": "2022-03-22T08:17:39.691838Z"
    },
    "papermill": {
     "duration": 0.051099,
     "end_time": "2022-03-22T08:32:42.650592",
     "exception": false,
     "start_time": "2022-03-22T08:32:42.599493",
     "status": "completed"
    },
    "tags": []
   },
   "outputs": [],
   "source": [
    "def extract_deck(s):\n",
    "    return s.split('/')[0]\n",
    "\n",
    "def extract_num(s):\n",
    "    return s.split('/')[1]\n",
    "\n",
    "def extract_side(s):\n",
    "    return s.split('/')[2]\n",
    "\n",
    "train['Deck'] = train['Cabin'].apply(extract_deck)\n",
    "train['Num'] = train['Cabin'].apply(extract_num)\n",
    "train['Side'] = train['Cabin'].apply(extract_side)\n",
    "\n",
    "test['Deck'] = test['Cabin'].apply(extract_deck)\n",
    "test['Num'] = test['Cabin'].apply(extract_num)\n",
    "test['Side'] = test['Cabin'].apply(extract_side)"
   ]
  },
  {
   "cell_type": "markdown",
   "id": "65ab890b",
   "metadata": {
    "papermill": {
     "duration": 0.024129,
     "end_time": "2022-03-22T08:32:42.698882",
     "exception": false,
     "start_time": "2022-03-22T08:32:42.674753",
     "status": "completed"
    },
    "tags": []
   },
   "source": [
    "## Convert categorical features into numerical"
   ]
  },
  {
   "cell_type": "code",
   "execution_count": 8,
   "id": "e6266128",
   "metadata": {
    "execution": {
     "iopub.execute_input": "2022-03-22T08:32:42.749693Z",
     "iopub.status.busy": "2022-03-22T08:32:42.749119Z",
     "iopub.status.idle": "2022-03-22T08:32:42.786680Z",
     "shell.execute_reply": "2022-03-22T08:32:42.786151Z",
     "shell.execute_reply.started": "2022-03-22T08:17:39.728007Z"
    },
    "papermill": {
     "duration": 0.063858,
     "end_time": "2022-03-22T08:32:42.786828",
     "exception": false,
     "start_time": "2022-03-22T08:32:42.722970",
     "status": "completed"
    },
    "tags": []
   },
   "outputs": [],
   "source": [
    "features_cat = ['HomePlanet', 'Destination', 'Deck', 'Side']\n",
    "for feature in features_cat:\n",
    "    train[pd.get_dummies(train[feature], prefix=feature).columns] = pd.get_dummies(train[feature], prefix=feature)\n",
    "    test[pd.get_dummies(test[feature], prefix=feature).columns] = pd.get_dummies(test[feature], prefix=feature)"
   ]
  },
  {
   "cell_type": "markdown",
   "id": "4ac02c7e",
   "metadata": {
    "papermill": {
     "duration": 0.024732,
     "end_time": "2022-03-22T08:32:42.836904",
     "exception": false,
     "start_time": "2022-03-22T08:32:42.812172",
     "status": "completed"
    },
    "tags": []
   },
   "source": [
    "To handle the name data, combining the train and test dataset. We will split it later."
   ]
  },
  {
   "cell_type": "code",
   "execution_count": 9,
   "id": "62400c42",
   "metadata": {
    "execution": {
     "iopub.execute_input": "2022-03-22T08:32:42.890454Z",
     "iopub.status.busy": "2022-03-22T08:32:42.889882Z",
     "iopub.status.idle": "2022-03-22T08:32:42.933166Z",
     "shell.execute_reply": "2022-03-22T08:32:42.933611Z",
     "shell.execute_reply.started": "2022-03-22T08:17:39.779420Z"
    },
    "papermill": {
     "duration": 0.072675,
     "end_time": "2022-03-22T08:32:42.933784",
     "exception": false,
     "start_time": "2022-03-22T08:32:42.861109",
     "status": "completed"
    },
    "tags": []
   },
   "outputs": [
    {
     "data": {
      "text/html": [
       "<div>\n",
       "<style scoped>\n",
       "    .dataframe tbody tr th:only-of-type {\n",
       "        vertical-align: middle;\n",
       "    }\n",
       "\n",
       "    .dataframe tbody tr th {\n",
       "        vertical-align: top;\n",
       "    }\n",
       "\n",
       "    .dataframe thead th {\n",
       "        text-align: right;\n",
       "    }\n",
       "</style>\n",
       "<table border=\"1\" class=\"dataframe\">\n",
       "  <thead>\n",
       "    <tr style=\"text-align: right;\">\n",
       "      <th></th>\n",
       "      <th>PassengerId</th>\n",
       "      <th>HomePlanet</th>\n",
       "      <th>CryoSleep</th>\n",
       "      <th>Cabin</th>\n",
       "      <th>Destination</th>\n",
       "      <th>Age</th>\n",
       "      <th>VIP</th>\n",
       "      <th>RoomService</th>\n",
       "      <th>FoodCourt</th>\n",
       "      <th>ShoppingMall</th>\n",
       "      <th>...</th>\n",
       "      <th>Deck_A</th>\n",
       "      <th>Deck_B</th>\n",
       "      <th>Deck_C</th>\n",
       "      <th>Deck_D</th>\n",
       "      <th>Deck_E</th>\n",
       "      <th>Deck_F</th>\n",
       "      <th>Deck_G</th>\n",
       "      <th>Deck_T</th>\n",
       "      <th>Side_P</th>\n",
       "      <th>Side_S</th>\n",
       "    </tr>\n",
       "  </thead>\n",
       "  <tbody>\n",
       "    <tr>\n",
       "      <th>0</th>\n",
       "      <td>0001_01</td>\n",
       "      <td>Europa</td>\n",
       "      <td>False</td>\n",
       "      <td>B/0/P</td>\n",
       "      <td>TRAPPIST-1e</td>\n",
       "      <td>39.00000</td>\n",
       "      <td>False</td>\n",
       "      <td>0.0</td>\n",
       "      <td>0.0</td>\n",
       "      <td>0.0</td>\n",
       "      <td>...</td>\n",
       "      <td>0</td>\n",
       "      <td>1</td>\n",
       "      <td>0</td>\n",
       "      <td>0</td>\n",
       "      <td>0</td>\n",
       "      <td>0</td>\n",
       "      <td>0</td>\n",
       "      <td>0</td>\n",
       "      <td>1</td>\n",
       "      <td>0</td>\n",
       "    </tr>\n",
       "    <tr>\n",
       "      <th>1</th>\n",
       "      <td>0002_01</td>\n",
       "      <td>Earth</td>\n",
       "      <td>False</td>\n",
       "      <td>F/0/S</td>\n",
       "      <td>TRAPPIST-1e</td>\n",
       "      <td>24.00000</td>\n",
       "      <td>False</td>\n",
       "      <td>109.0</td>\n",
       "      <td>9.0</td>\n",
       "      <td>25.0</td>\n",
       "      <td>...</td>\n",
       "      <td>0</td>\n",
       "      <td>0</td>\n",
       "      <td>0</td>\n",
       "      <td>0</td>\n",
       "      <td>0</td>\n",
       "      <td>1</td>\n",
       "      <td>0</td>\n",
       "      <td>0</td>\n",
       "      <td>0</td>\n",
       "      <td>1</td>\n",
       "    </tr>\n",
       "    <tr>\n",
       "      <th>2</th>\n",
       "      <td>0003_01</td>\n",
       "      <td>Europa</td>\n",
       "      <td>False</td>\n",
       "      <td>A/0/S</td>\n",
       "      <td>TRAPPIST-1e</td>\n",
       "      <td>58.00000</td>\n",
       "      <td>True</td>\n",
       "      <td>43.0</td>\n",
       "      <td>3576.0</td>\n",
       "      <td>0.0</td>\n",
       "      <td>...</td>\n",
       "      <td>1</td>\n",
       "      <td>0</td>\n",
       "      <td>0</td>\n",
       "      <td>0</td>\n",
       "      <td>0</td>\n",
       "      <td>0</td>\n",
       "      <td>0</td>\n",
       "      <td>0</td>\n",
       "      <td>0</td>\n",
       "      <td>1</td>\n",
       "    </tr>\n",
       "    <tr>\n",
       "      <th>3</th>\n",
       "      <td>0003_02</td>\n",
       "      <td>Europa</td>\n",
       "      <td>False</td>\n",
       "      <td>A/0/S</td>\n",
       "      <td>TRAPPIST-1e</td>\n",
       "      <td>33.00000</td>\n",
       "      <td>False</td>\n",
       "      <td>0.0</td>\n",
       "      <td>1283.0</td>\n",
       "      <td>371.0</td>\n",
       "      <td>...</td>\n",
       "      <td>1</td>\n",
       "      <td>0</td>\n",
       "      <td>0</td>\n",
       "      <td>0</td>\n",
       "      <td>0</td>\n",
       "      <td>0</td>\n",
       "      <td>0</td>\n",
       "      <td>0</td>\n",
       "      <td>0</td>\n",
       "      <td>1</td>\n",
       "    </tr>\n",
       "    <tr>\n",
       "      <th>4</th>\n",
       "      <td>0004_01</td>\n",
       "      <td>Earth</td>\n",
       "      <td>False</td>\n",
       "      <td>F/1/S</td>\n",
       "      <td>TRAPPIST-1e</td>\n",
       "      <td>16.00000</td>\n",
       "      <td>False</td>\n",
       "      <td>303.0</td>\n",
       "      <td>70.0</td>\n",
       "      <td>151.0</td>\n",
       "      <td>...</td>\n",
       "      <td>0</td>\n",
       "      <td>0</td>\n",
       "      <td>0</td>\n",
       "      <td>0</td>\n",
       "      <td>0</td>\n",
       "      <td>1</td>\n",
       "      <td>0</td>\n",
       "      <td>0</td>\n",
       "      <td>0</td>\n",
       "      <td>1</td>\n",
       "    </tr>\n",
       "    <tr>\n",
       "      <th>...</th>\n",
       "      <td>...</td>\n",
       "      <td>...</td>\n",
       "      <td>...</td>\n",
       "      <td>...</td>\n",
       "      <td>...</td>\n",
       "      <td>...</td>\n",
       "      <td>...</td>\n",
       "      <td>...</td>\n",
       "      <td>...</td>\n",
       "      <td>...</td>\n",
       "      <td>...</td>\n",
       "      <td>...</td>\n",
       "      <td>...</td>\n",
       "      <td>...</td>\n",
       "      <td>...</td>\n",
       "      <td>...</td>\n",
       "      <td>...</td>\n",
       "      <td>...</td>\n",
       "      <td>...</td>\n",
       "      <td>...</td>\n",
       "      <td>...</td>\n",
       "    </tr>\n",
       "    <tr>\n",
       "      <th>4272</th>\n",
       "      <td>9266_02</td>\n",
       "      <td>Earth</td>\n",
       "      <td>True</td>\n",
       "      <td>G/1496/S</td>\n",
       "      <td>TRAPPIST-1e</td>\n",
       "      <td>34.00000</td>\n",
       "      <td>False</td>\n",
       "      <td>0.0</td>\n",
       "      <td>0.0</td>\n",
       "      <td>0.0</td>\n",
       "      <td>...</td>\n",
       "      <td>0</td>\n",
       "      <td>0</td>\n",
       "      <td>0</td>\n",
       "      <td>0</td>\n",
       "      <td>0</td>\n",
       "      <td>0</td>\n",
       "      <td>1</td>\n",
       "      <td>0</td>\n",
       "      <td>0</td>\n",
       "      <td>1</td>\n",
       "    </tr>\n",
       "    <tr>\n",
       "      <th>4273</th>\n",
       "      <td>9269_01</td>\n",
       "      <td>Earth</td>\n",
       "      <td>False</td>\n",
       "      <td>G/734/S</td>\n",
       "      <td>TRAPPIST-1e</td>\n",
       "      <td>42.00000</td>\n",
       "      <td>False</td>\n",
       "      <td>0.0</td>\n",
       "      <td>847.0</td>\n",
       "      <td>17.0</td>\n",
       "      <td>...</td>\n",
       "      <td>0</td>\n",
       "      <td>0</td>\n",
       "      <td>0</td>\n",
       "      <td>0</td>\n",
       "      <td>0</td>\n",
       "      <td>0</td>\n",
       "      <td>1</td>\n",
       "      <td>0</td>\n",
       "      <td>0</td>\n",
       "      <td>1</td>\n",
       "    </tr>\n",
       "    <tr>\n",
       "      <th>4274</th>\n",
       "      <td>9271_01</td>\n",
       "      <td>Mars</td>\n",
       "      <td>True</td>\n",
       "      <td>D/296/P</td>\n",
       "      <td>55 Cancri e</td>\n",
       "      <td>28.82793</td>\n",
       "      <td>False</td>\n",
       "      <td>0.0</td>\n",
       "      <td>0.0</td>\n",
       "      <td>0.0</td>\n",
       "      <td>...</td>\n",
       "      <td>0</td>\n",
       "      <td>0</td>\n",
       "      <td>0</td>\n",
       "      <td>1</td>\n",
       "      <td>0</td>\n",
       "      <td>0</td>\n",
       "      <td>0</td>\n",
       "      <td>0</td>\n",
       "      <td>1</td>\n",
       "      <td>0</td>\n",
       "    </tr>\n",
       "    <tr>\n",
       "      <th>4275</th>\n",
       "      <td>9273_01</td>\n",
       "      <td>Europa</td>\n",
       "      <td>False</td>\n",
       "      <td>D/297/P</td>\n",
       "      <td>TRAPPIST-1e</td>\n",
       "      <td>28.82793</td>\n",
       "      <td>False</td>\n",
       "      <td>0.0</td>\n",
       "      <td>2680.0</td>\n",
       "      <td>0.0</td>\n",
       "      <td>...</td>\n",
       "      <td>0</td>\n",
       "      <td>0</td>\n",
       "      <td>0</td>\n",
       "      <td>1</td>\n",
       "      <td>0</td>\n",
       "      <td>0</td>\n",
       "      <td>0</td>\n",
       "      <td>0</td>\n",
       "      <td>1</td>\n",
       "      <td>0</td>\n",
       "    </tr>\n",
       "    <tr>\n",
       "      <th>4276</th>\n",
       "      <td>9277_01</td>\n",
       "      <td>Earth</td>\n",
       "      <td>True</td>\n",
       "      <td>G/1498/S</td>\n",
       "      <td>PSO J318.5-22</td>\n",
       "      <td>43.00000</td>\n",
       "      <td>False</td>\n",
       "      <td>0.0</td>\n",
       "      <td>0.0</td>\n",
       "      <td>0.0</td>\n",
       "      <td>...</td>\n",
       "      <td>0</td>\n",
       "      <td>0</td>\n",
       "      <td>0</td>\n",
       "      <td>0</td>\n",
       "      <td>0</td>\n",
       "      <td>0</td>\n",
       "      <td>1</td>\n",
       "      <td>0</td>\n",
       "      <td>0</td>\n",
       "      <td>1</td>\n",
       "    </tr>\n",
       "  </tbody>\n",
       "</table>\n",
       "<p>12970 rows × 32 columns</p>\n",
       "</div>"
      ],
      "text/plain": [
       "     PassengerId HomePlanet  CryoSleep     Cabin    Destination       Age  \\\n",
       "0        0001_01     Europa      False     B/0/P    TRAPPIST-1e  39.00000   \n",
       "1        0002_01      Earth      False     F/0/S    TRAPPIST-1e  24.00000   \n",
       "2        0003_01     Europa      False     A/0/S    TRAPPIST-1e  58.00000   \n",
       "3        0003_02     Europa      False     A/0/S    TRAPPIST-1e  33.00000   \n",
       "4        0004_01      Earth      False     F/1/S    TRAPPIST-1e  16.00000   \n",
       "...          ...        ...        ...       ...            ...       ...   \n",
       "4272     9266_02      Earth       True  G/1496/S    TRAPPIST-1e  34.00000   \n",
       "4273     9269_01      Earth      False   G/734/S    TRAPPIST-1e  42.00000   \n",
       "4274     9271_01       Mars       True   D/296/P    55 Cancri e  28.82793   \n",
       "4275     9273_01     Europa      False   D/297/P    TRAPPIST-1e  28.82793   \n",
       "4276     9277_01      Earth       True  G/1498/S  PSO J318.5-22  43.00000   \n",
       "\n",
       "        VIP  RoomService  FoodCourt  ShoppingMall  ...  Deck_A  Deck_B Deck_C  \\\n",
       "0     False          0.0        0.0           0.0  ...       0       1      0   \n",
       "1     False        109.0        9.0          25.0  ...       0       0      0   \n",
       "2      True         43.0     3576.0           0.0  ...       1       0      0   \n",
       "3     False          0.0     1283.0         371.0  ...       1       0      0   \n",
       "4     False        303.0       70.0         151.0  ...       0       0      0   \n",
       "...     ...          ...        ...           ...  ...     ...     ...    ...   \n",
       "4272  False          0.0        0.0           0.0  ...       0       0      0   \n",
       "4273  False          0.0      847.0          17.0  ...       0       0      0   \n",
       "4274  False          0.0        0.0           0.0  ...       0       0      0   \n",
       "4275  False          0.0     2680.0           0.0  ...       0       0      0   \n",
       "4276  False          0.0        0.0           0.0  ...       0       0      0   \n",
       "\n",
       "     Deck_D Deck_E Deck_F  Deck_G  Deck_T  Side_P  Side_S  \n",
       "0         0      0      0       0       0       1       0  \n",
       "1         0      0      1       0       0       0       1  \n",
       "2         0      0      0       0       0       0       1  \n",
       "3         0      0      0       0       0       0       1  \n",
       "4         0      0      1       0       0       0       1  \n",
       "...     ...    ...    ...     ...     ...     ...     ...  \n",
       "4272      0      0      0       1       0       0       1  \n",
       "4273      0      0      0       1       0       0       1  \n",
       "4274      1      0      0       0       0       1       0  \n",
       "4275      1      0      0       0       0       1       0  \n",
       "4276      0      0      0       1       0       0       1  \n",
       "\n",
       "[12970 rows x 32 columns]"
      ]
     },
     "execution_count": 9,
     "metadata": {},
     "output_type": "execute_result"
    }
   ],
   "source": [
    "data = pd.concat([train[test.columns], test])\n",
    "data"
   ]
  },
  {
   "cell_type": "markdown",
   "id": "e24fb4ea",
   "metadata": {
    "papermill": {
     "duration": 0.024488,
     "end_time": "2022-03-22T08:32:42.983424",
     "exception": false,
     "start_time": "2022-03-22T08:32:42.958936",
     "status": "completed"
    },
    "tags": []
   },
   "source": [
    "## Handling name"
   ]
  },
  {
   "cell_type": "code",
   "execution_count": 10,
   "id": "858d4246",
   "metadata": {
    "execution": {
     "iopub.execute_input": "2022-03-22T08:32:43.045160Z",
     "iopub.status.busy": "2022-03-22T08:32:43.044200Z",
     "iopub.status.idle": "2022-03-22T08:32:43.060842Z",
     "shell.execute_reply": "2022-03-22T08:32:43.061349Z",
     "shell.execute_reply.started": "2022-03-22T08:17:39.842643Z"
    },
    "papermill": {
     "duration": 0.053265,
     "end_time": "2022-03-22T08:32:43.061528",
     "exception": false,
     "start_time": "2022-03-22T08:32:43.008263",
     "status": "completed"
    },
    "tags": []
   },
   "outputs": [],
   "source": [
    "def extract_last_name(s):\n",
    "    return str(s).split(' ')[-1]\n",
    "\n",
    "data['LastName'] = data['Name'].apply(extract_last_name)\n",
    "\n",
    "dict_names = data['LastName'].value_counts().to_dict()\n",
    "\n",
    "def same_name(s):\n",
    "    return dict_names[s]-1\n",
    "\n",
    "data['SameName'] = data['LastName'].apply(same_name)"
   ]
  },
  {
   "cell_type": "markdown",
   "id": "6f25324d",
   "metadata": {
    "papermill": {
     "duration": 0.024925,
     "end_time": "2022-03-22T08:32:43.112013",
     "exception": false,
     "start_time": "2022-03-22T08:32:43.087088",
     "status": "completed"
    },
    "tags": []
   },
   "source": [
    "we will add column ['SameName'] to train and test set"
   ]
  },
  {
   "cell_type": "code",
   "execution_count": 11,
   "id": "8433915e",
   "metadata": {
    "execution": {
     "iopub.execute_input": "2022-03-22T08:32:43.165710Z",
     "iopub.status.busy": "2022-03-22T08:32:43.164791Z",
     "iopub.status.idle": "2022-03-22T08:32:43.170057Z",
     "shell.execute_reply": "2022-03-22T08:32:43.170541Z",
     "shell.execute_reply.started": "2022-03-22T08:17:39.878779Z"
    },
    "papermill": {
     "duration": 0.033877,
     "end_time": "2022-03-22T08:32:43.170733",
     "exception": false,
     "start_time": "2022-03-22T08:32:43.136856",
     "status": "completed"
    },
    "tags": []
   },
   "outputs": [],
   "source": [
    "to_train = data.iloc[0:8693]\n",
    "train['SameName'] = pd.Series(to_train['SameName'])"
   ]
  },
  {
   "cell_type": "code",
   "execution_count": 12,
   "id": "51f0b061",
   "metadata": {
    "execution": {
     "iopub.execute_input": "2022-03-22T08:32:43.224123Z",
     "iopub.status.busy": "2022-03-22T08:32:43.223206Z",
     "iopub.status.idle": "2022-03-22T08:32:43.228194Z",
     "shell.execute_reply": "2022-03-22T08:32:43.228700Z",
     "shell.execute_reply.started": "2022-03-22T08:17:39.887616Z"
    },
    "papermill": {
     "duration": 0.03334,
     "end_time": "2022-03-22T08:32:43.228861",
     "exception": false,
     "start_time": "2022-03-22T08:32:43.195521",
     "status": "completed"
    },
    "tags": []
   },
   "outputs": [],
   "source": [
    "to_test = data.iloc[8693:]\n",
    "test['SameName'] = pd.Series(to_test['SameName'])"
   ]
  },
  {
   "cell_type": "markdown",
   "id": "9df5bd37",
   "metadata": {
    "papermill": {
     "duration": 0.024772,
     "end_time": "2022-03-22T08:32:43.278304",
     "exception": false,
     "start_time": "2022-03-22T08:32:43.253532",
     "status": "completed"
    },
    "tags": []
   },
   "source": [
    "## Handling with age"
   ]
  },
  {
   "cell_type": "markdown",
   "id": "2dd521c9",
   "metadata": {
    "papermill": {
     "duration": 0.024411,
     "end_time": "2022-03-22T08:32:43.327234",
     "exception": false,
     "start_time": "2022-03-22T08:32:43.302823",
     "status": "completed"
    },
    "tags": []
   },
   "source": [
    "let us replace age with ordinals based on these groups"
   ]
  },
  {
   "cell_type": "code",
   "execution_count": 13,
   "id": "8f914f33",
   "metadata": {
    "execution": {
     "iopub.execute_input": "2022-03-22T08:32:43.384605Z",
     "iopub.status.busy": "2022-03-22T08:32:43.383445Z",
     "iopub.status.idle": "2022-03-22T08:32:43.385526Z",
     "shell.execute_reply": "2022-03-22T08:32:43.386020Z",
     "shell.execute_reply.started": "2022-03-22T08:17:39.905084Z"
    },
    "papermill": {
     "duration": 0.034274,
     "end_time": "2022-03-22T08:32:43.386188",
     "exception": false,
     "start_time": "2022-03-22T08:32:43.351914",
     "status": "completed"
    },
    "tags": []
   },
   "outputs": [],
   "source": [
    "def age_group(s):\n",
    "    if s==0:\n",
    "        return -1\n",
    "    elif (s > 0) and (s <= 11):\n",
    "        return 1\n",
    "    elif (s > 11) and (s <= 22):\n",
    "        return 2\n",
    "    elif (s > 22) and (s <= 33):\n",
    "        return 3\n",
    "    elif (s > 33) and (s <= 45):\n",
    "        return 4\n",
    "    elif (s > 45) and (s <= 56):\n",
    "        return 5\n",
    "    elif (s > 56) and (s <= 67):\n",
    "        return 6\n",
    "    elif (s > 67) and (s <= 79):\n",
    "        return 7\n",
    "    elif (s > 79) and (s <= 80):\n",
    "        return 8\n",
    "\n",
    "    train['Age_Group'] = train['Age'].apply(age_group)\n",
    "    test['Age_Group'] = test['Age'].apply(age_group)"
   ]
  },
  {
   "cell_type": "markdown",
   "id": "0e07fcf7",
   "metadata": {
    "papermill": {
     "duration": 0.024492,
     "end_time": "2022-03-22T08:32:43.435594",
     "exception": false,
     "start_time": "2022-03-22T08:32:43.411102",
     "status": "completed"
    },
    "tags": []
   },
   "source": [
    "## Drop Columns"
   ]
  },
  {
   "cell_type": "markdown",
   "id": "9bb68985",
   "metadata": {
    "papermill": {
     "duration": 0.024405,
     "end_time": "2022-03-22T08:32:43.484768",
     "exception": false,
     "start_time": "2022-03-22T08:32:43.460363",
     "status": "completed"
    },
    "tags": []
   },
   "source": [
    "* passengerId is unique Id for each passenger. It is not important while building model\n",
    "* we converted HomePlanet into 3 numerical columns so we don't need the original column\n",
    "* we analysed Cabin, Destination, Name, Age and we don't need them."
   ]
  },
  {
   "cell_type": "code",
   "execution_count": 14,
   "id": "3c16d9fb",
   "metadata": {
    "execution": {
     "iopub.execute_input": "2022-03-22T08:32:43.539355Z",
     "iopub.status.busy": "2022-03-22T08:32:43.538763Z",
     "iopub.status.idle": "2022-03-22T08:32:43.542476Z",
     "shell.execute_reply": "2022-03-22T08:32:43.542902Z",
     "shell.execute_reply.started": "2022-03-22T08:17:39.920178Z"
    },
    "papermill": {
     "duration": 0.03369,
     "end_time": "2022-03-22T08:32:43.543070",
     "exception": false,
     "start_time": "2022-03-22T08:32:43.509380",
     "status": "completed"
    },
    "tags": []
   },
   "outputs": [],
   "source": [
    "train.drop(['PassengerId', 'HomePlanet', 'Cabin', 'Destination', 'Name', 'Age', 'Deck', 'Side'], axis = 1, inplace = True)"
   ]
  },
  {
   "cell_type": "code",
   "execution_count": 15,
   "id": "48a08e83",
   "metadata": {
    "execution": {
     "iopub.execute_input": "2022-03-22T08:32:43.598777Z",
     "iopub.status.busy": "2022-03-22T08:32:43.598169Z",
     "iopub.status.idle": "2022-03-22T08:32:43.604065Z",
     "shell.execute_reply": "2022-03-22T08:32:43.604573Z",
     "shell.execute_reply.started": "2022-03-22T08:17:39.937648Z"
    },
    "papermill": {
     "duration": 0.034874,
     "end_time": "2022-03-22T08:32:43.604745",
     "exception": false,
     "start_time": "2022-03-22T08:32:43.569871",
     "status": "completed"
    },
    "tags": []
   },
   "outputs": [],
   "source": [
    "test.drop(['PassengerId', 'HomePlanet', 'Cabin', 'Destination', 'Name', 'Age', 'Deck', 'Side'], axis = 1, inplace = True)"
   ]
  },
  {
   "cell_type": "markdown",
   "id": "b8af54b0",
   "metadata": {
    "papermill": {
     "duration": 0.025074,
     "end_time": "2022-03-22T08:32:43.654775",
     "exception": false,
     "start_time": "2022-03-22T08:32:43.629701",
     "status": "completed"
    },
    "tags": []
   },
   "source": [
    "## Convert False to 0 and True to 1"
   ]
  },
  {
   "cell_type": "code",
   "execution_count": 16,
   "id": "43f2fb31",
   "metadata": {
    "execution": {
     "iopub.execute_input": "2022-03-22T08:32:43.708000Z",
     "iopub.status.busy": "2022-03-22T08:32:43.707361Z",
     "iopub.status.idle": "2022-03-22T08:32:43.717583Z",
     "shell.execute_reply": "2022-03-22T08:32:43.717095Z",
     "shell.execute_reply.started": "2022-03-22T08:17:39.950314Z"
    },
    "papermill": {
     "duration": 0.038328,
     "end_time": "2022-03-22T08:32:43.717731",
     "exception": false,
     "start_time": "2022-03-22T08:32:43.679403",
     "status": "completed"
    },
    "tags": []
   },
   "outputs": [],
   "source": [
    "train['CryoSleep'] = train['CryoSleep'].astype(int)\n",
    "train['VIP'] = train['VIP'].astype(int)\n",
    "train['Num'] = train['Num'].astype(int)\n",
    "\n",
    "test['CryoSleep'] = test['CryoSleep'].astype(int)\n",
    "test['VIP'] = test['VIP'].astype(int)\n",
    "test['Num'] = test['Num'].astype(int)"
   ]
  },
  {
   "cell_type": "code",
   "execution_count": 17,
   "id": "3103b58c",
   "metadata": {
    "execution": {
     "iopub.execute_input": "2022-03-22T08:32:43.773321Z",
     "iopub.status.busy": "2022-03-22T08:32:43.772761Z",
     "iopub.status.idle": "2022-03-22T08:32:43.776016Z",
     "shell.execute_reply": "2022-03-22T08:32:43.776443Z",
     "shell.execute_reply.started": "2022-03-22T08:17:39.966549Z"
    },
    "papermill": {
     "duration": 0.033567,
     "end_time": "2022-03-22T08:32:43.776621",
     "exception": false,
     "start_time": "2022-03-22T08:32:43.743054",
     "status": "completed"
    },
    "tags": []
   },
   "outputs": [],
   "source": [
    "x_train = train.drop(['Transported'], axis = 1)\n",
    "y_train = train['Transported']\n",
    "x_test = test"
   ]
  },
  {
   "cell_type": "code",
   "execution_count": 18,
   "id": "223534ed",
   "metadata": {
    "execution": {
     "iopub.execute_input": "2022-03-22T08:32:43.829175Z",
     "iopub.status.busy": "2022-03-22T08:32:43.828526Z",
     "iopub.status.idle": "2022-03-22T08:32:43.833959Z",
     "shell.execute_reply": "2022-03-22T08:32:43.834436Z",
     "shell.execute_reply.started": "2022-03-22T08:18:02.854015Z"
    },
    "papermill": {
     "duration": 0.032993,
     "end_time": "2022-03-22T08:32:43.834612",
     "exception": false,
     "start_time": "2022-03-22T08:32:43.801619",
     "status": "completed"
    },
    "tags": []
   },
   "outputs": [
    {
     "data": {
      "text/plain": [
       "((4277, 25), (8693, 25))"
      ]
     },
     "execution_count": 18,
     "metadata": {},
     "output_type": "execute_result"
    }
   ],
   "source": [
    "x_test.shape, x_train.shape"
   ]
  },
  {
   "cell_type": "markdown",
   "id": "5af5cd8c",
   "metadata": {
    "papermill": {
     "duration": 0.024509,
     "end_time": "2022-03-22T08:32:43.884405",
     "exception": false,
     "start_time": "2022-03-22T08:32:43.859896",
     "status": "completed"
    },
    "tags": []
   },
   "source": [
    "## Apply Models"
   ]
  },
  {
   "cell_type": "markdown",
   "id": "6080f9f4",
   "metadata": {
    "papermill": {
     "duration": 0.024668,
     "end_time": "2022-03-22T08:32:43.933829",
     "exception": false,
     "start_time": "2022-03-22T08:32:43.909161",
     "status": "completed"
    },
    "tags": []
   },
   "source": [
    "### Random Forest"
   ]
  },
  {
   "cell_type": "code",
   "execution_count": 19,
   "id": "7c786ec8",
   "metadata": {
    "execution": {
     "iopub.execute_input": "2022-03-22T08:32:43.989430Z",
     "iopub.status.busy": "2022-03-22T08:32:43.988500Z",
     "iopub.status.idle": "2022-03-22T08:33:29.835459Z",
     "shell.execute_reply": "2022-03-22T08:33:29.836188Z",
     "shell.execute_reply.started": "2022-03-22T08:28:21.078602Z"
    },
    "papermill": {
     "duration": 45.876361,
     "end_time": "2022-03-22T08:33:29.836413",
     "exception": false,
     "start_time": "2022-03-22T08:32:43.960052",
     "status": "completed"
    },
    "tags": []
   },
   "outputs": [
    {
     "name": "stdout",
     "output_type": "stream",
     "text": [
      "Best parameters: {'max_depth': 11, 'min_samples_leaf': 20, 'min_samples_split': 8, 'n_estimators': 25}\n",
      "\n",
      "Best Accuracy: 0.7983462712522772\n"
     ]
    }
   ],
   "source": [
    "parameter = {\n",
    "    'n_estimators': [5, 10, 15, 20, 25],\n",
    "    'max_depth': [3, 5, 7, 9, 11, 12],\n",
    "    'min_samples_leaf': [18, 19, 20],\n",
    "    'min_samples_split': [8, 9, 10]\n",
    "}\n",
    "\n",
    "rfc_model = RandomForestClassifier()\n",
    "rfc_grid = GridSearchCV(rfc_model, param_grid = parameter, cv = 5, scoring = 'accuracy', n_jobs = -1)\n",
    "rfc_grid.fit(x_train, y_train)\n",
    "print('Best parameters:', rfc_grid.best_params_)\n",
    "print()\n",
    "print('Best Accuracy:', rfc_grid.best_score_)"
   ]
  },
  {
   "cell_type": "code",
   "execution_count": 20,
   "id": "3a6cd463",
   "metadata": {
    "execution": {
     "iopub.execute_input": "2022-03-22T08:33:29.891332Z",
     "iopub.status.busy": "2022-03-22T08:33:29.890778Z",
     "iopub.status.idle": "2022-03-22T08:33:30.083884Z",
     "shell.execute_reply": "2022-03-22T08:33:30.084357Z",
     "shell.execute_reply.started": "2022-03-22T08:31:20.237892Z"
    },
    "papermill": {
     "duration": 0.221394,
     "end_time": "2022-03-22T08:33:30.084520",
     "exception": false,
     "start_time": "2022-03-22T08:33:29.863126",
     "status": "completed"
    },
    "tags": []
   },
   "outputs": [],
   "source": [
    "rf = RandomForestClassifier(max_depth = 12, min_samples_leaf = 18, min_samples_split = 9, n_estimators = 25)\n",
    "rf.fit(x_train, y_train)\n",
    "y_pred_rf = rf.predict(x_test)"
   ]
  },
  {
   "cell_type": "code",
   "execution_count": null,
   "id": "a35ff8e1",
   "metadata": {
    "papermill": {
     "duration": 0.026314,
     "end_time": "2022-03-22T08:33:30.137618",
     "exception": false,
     "start_time": "2022-03-22T08:33:30.111304",
     "status": "completed"
    },
    "tags": []
   },
   "outputs": [],
   "source": []
  }
 ],
 "metadata": {
  "kernelspec": {
   "display_name": "Python 3",
   "language": "python",
   "name": "python3"
  },
  "language_info": {
   "codemirror_mode": {
    "name": "ipython",
    "version": 3
   },
   "file_extension": ".py",
   "mimetype": "text/x-python",
   "name": "python",
   "nbconvert_exporter": "python",
   "pygments_lexer": "ipython3",
   "version": "3.7.12"
  },
  "papermill": {
   "default_parameters": {},
   "duration": 60.199641,
   "end_time": "2022-03-22T08:33:30.974989",
   "environment_variables": {},
   "exception": null,
   "input_path": "__notebook__.ipynb",
   "output_path": "__notebook__.ipynb",
   "parameters": {},
   "start_time": "2022-03-22T08:32:30.775348",
   "version": "2.3.3"
  }
 },
 "nbformat": 4,
 "nbformat_minor": 5
}
